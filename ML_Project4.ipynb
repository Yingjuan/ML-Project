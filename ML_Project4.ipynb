{
 "cells": [
  {
   "cell_type": "markdown",
   "metadata": {},
   "source": [
    "# Regression Model For Predicting Movie Box Office Gross"
   ]
  },
  {
   "cell_type": "markdown",
   "metadata": {},
   "source": [
    "Group Members: Yingjuan Wu, Sahand Zeinali, Ying Wu"
   ]
  },
  {
   "cell_type": "markdown",
   "metadata": {},
   "source": [
    "Project Description: \n",
    "In this project, we will explore factors that contribute to a movie’s theatrical revenues. We will use worldwide box-office gross as the target variable, and use relevant information that are available before a movie releases as input variables, including, number of critic reviews, duration of movie (in mins), director facebook likes, cast total facebook likes, genres, budget, country, content-rating, imdb_score, etc."
   ]
  },
  {
   "cell_type": "code",
   "execution_count": 1,
   "metadata": {
    "collapsed": false,
    "scrolled": true
   },
   "outputs": [
    {
     "data": {
      "text/html": [
       "<div>\n",
       "<table border=\"1\" class=\"dataframe\">\n",
       "  <thead>\n",
       "    <tr style=\"text-align: right;\">\n",
       "      <th></th>\n",
       "      <th>color</th>\n",
       "      <th>director_name</th>\n",
       "      <th>num_critic_for_reviews</th>\n",
       "      <th>duration</th>\n",
       "      <th>director_facebook_likes</th>\n",
       "      <th>actor_3_facebook_likes</th>\n",
       "      <th>actor_2_name</th>\n",
       "      <th>actor_1_facebook_likes</th>\n",
       "      <th>gross</th>\n",
       "      <th>genres</th>\n",
       "      <th>...</th>\n",
       "      <th>num_user_for_reviews</th>\n",
       "      <th>language</th>\n",
       "      <th>country</th>\n",
       "      <th>content_rating</th>\n",
       "      <th>budget</th>\n",
       "      <th>title_year</th>\n",
       "      <th>actor_2_facebook_likes</th>\n",
       "      <th>imdb_score</th>\n",
       "      <th>aspect_ratio</th>\n",
       "      <th>movie_facebook_likes</th>\n",
       "    </tr>\n",
       "  </thead>\n",
       "  <tbody>\n",
       "    <tr>\n",
       "      <th>0</th>\n",
       "      <td>Color</td>\n",
       "      <td>James Cameron</td>\n",
       "      <td>723.0</td>\n",
       "      <td>178.0</td>\n",
       "      <td>0.0</td>\n",
       "      <td>855.0</td>\n",
       "      <td>Joel David Moore</td>\n",
       "      <td>1000.0</td>\n",
       "      <td>760505847.0</td>\n",
       "      <td>Action|Adventure|Fantasy|Sci-Fi</td>\n",
       "      <td>...</td>\n",
       "      <td>3054.0</td>\n",
       "      <td>English</td>\n",
       "      <td>USA</td>\n",
       "      <td>PG-13</td>\n",
       "      <td>237000000.0</td>\n",
       "      <td>2009.0</td>\n",
       "      <td>936.0</td>\n",
       "      <td>7.9</td>\n",
       "      <td>1.78</td>\n",
       "      <td>33000</td>\n",
       "    </tr>\n",
       "    <tr>\n",
       "      <th>1</th>\n",
       "      <td>Color</td>\n",
       "      <td>Gore Verbinski</td>\n",
       "      <td>302.0</td>\n",
       "      <td>169.0</td>\n",
       "      <td>563.0</td>\n",
       "      <td>1000.0</td>\n",
       "      <td>Orlando Bloom</td>\n",
       "      <td>40000.0</td>\n",
       "      <td>309404152.0</td>\n",
       "      <td>Action|Adventure|Fantasy</td>\n",
       "      <td>...</td>\n",
       "      <td>1238.0</td>\n",
       "      <td>English</td>\n",
       "      <td>USA</td>\n",
       "      <td>PG-13</td>\n",
       "      <td>300000000.0</td>\n",
       "      <td>2007.0</td>\n",
       "      <td>5000.0</td>\n",
       "      <td>7.1</td>\n",
       "      <td>2.35</td>\n",
       "      <td>0</td>\n",
       "    </tr>\n",
       "    <tr>\n",
       "      <th>2</th>\n",
       "      <td>Color</td>\n",
       "      <td>Sam Mendes</td>\n",
       "      <td>602.0</td>\n",
       "      <td>148.0</td>\n",
       "      <td>0.0</td>\n",
       "      <td>161.0</td>\n",
       "      <td>Rory Kinnear</td>\n",
       "      <td>11000.0</td>\n",
       "      <td>200074175.0</td>\n",
       "      <td>Action|Adventure|Thriller</td>\n",
       "      <td>...</td>\n",
       "      <td>994.0</td>\n",
       "      <td>English</td>\n",
       "      <td>UK</td>\n",
       "      <td>PG-13</td>\n",
       "      <td>245000000.0</td>\n",
       "      <td>2015.0</td>\n",
       "      <td>393.0</td>\n",
       "      <td>6.8</td>\n",
       "      <td>2.35</td>\n",
       "      <td>85000</td>\n",
       "    </tr>\n",
       "    <tr>\n",
       "      <th>3</th>\n",
       "      <td>Color</td>\n",
       "      <td>Christopher Nolan</td>\n",
       "      <td>813.0</td>\n",
       "      <td>164.0</td>\n",
       "      <td>22000.0</td>\n",
       "      <td>23000.0</td>\n",
       "      <td>Christian Bale</td>\n",
       "      <td>27000.0</td>\n",
       "      <td>448130642.0</td>\n",
       "      <td>Action|Thriller</td>\n",
       "      <td>...</td>\n",
       "      <td>2701.0</td>\n",
       "      <td>English</td>\n",
       "      <td>USA</td>\n",
       "      <td>PG-13</td>\n",
       "      <td>250000000.0</td>\n",
       "      <td>2012.0</td>\n",
       "      <td>23000.0</td>\n",
       "      <td>8.5</td>\n",
       "      <td>2.35</td>\n",
       "      <td>164000</td>\n",
       "    </tr>\n",
       "    <tr>\n",
       "      <th>4</th>\n",
       "      <td>NaN</td>\n",
       "      <td>Doug Walker</td>\n",
       "      <td>NaN</td>\n",
       "      <td>NaN</td>\n",
       "      <td>131.0</td>\n",
       "      <td>NaN</td>\n",
       "      <td>Rob Walker</td>\n",
       "      <td>131.0</td>\n",
       "      <td>NaN</td>\n",
       "      <td>Documentary</td>\n",
       "      <td>...</td>\n",
       "      <td>NaN</td>\n",
       "      <td>NaN</td>\n",
       "      <td>NaN</td>\n",
       "      <td>NaN</td>\n",
       "      <td>NaN</td>\n",
       "      <td>NaN</td>\n",
       "      <td>12.0</td>\n",
       "      <td>7.1</td>\n",
       "      <td>NaN</td>\n",
       "      <td>0</td>\n",
       "    </tr>\n",
       "  </tbody>\n",
       "</table>\n",
       "<p>5 rows × 28 columns</p>\n",
       "</div>"
      ],
      "text/plain": [
       "   color      director_name  num_critic_for_reviews  duration  \\\n",
       "0  Color      James Cameron                   723.0     178.0   \n",
       "1  Color     Gore Verbinski                   302.0     169.0   \n",
       "2  Color         Sam Mendes                   602.0     148.0   \n",
       "3  Color  Christopher Nolan                   813.0     164.0   \n",
       "4    NaN        Doug Walker                     NaN       NaN   \n",
       "\n",
       "   director_facebook_likes  actor_3_facebook_likes      actor_2_name  \\\n",
       "0                      0.0                   855.0  Joel David Moore   \n",
       "1                    563.0                  1000.0     Orlando Bloom   \n",
       "2                      0.0                   161.0      Rory Kinnear   \n",
       "3                  22000.0                 23000.0    Christian Bale   \n",
       "4                    131.0                     NaN        Rob Walker   \n",
       "\n",
       "   actor_1_facebook_likes        gross                           genres  \\\n",
       "0                  1000.0  760505847.0  Action|Adventure|Fantasy|Sci-Fi   \n",
       "1                 40000.0  309404152.0         Action|Adventure|Fantasy   \n",
       "2                 11000.0  200074175.0        Action|Adventure|Thriller   \n",
       "3                 27000.0  448130642.0                  Action|Thriller   \n",
       "4                   131.0          NaN                      Documentary   \n",
       "\n",
       "          ...          num_user_for_reviews language  country  content_rating  \\\n",
       "0         ...                        3054.0  English      USA           PG-13   \n",
       "1         ...                        1238.0  English      USA           PG-13   \n",
       "2         ...                         994.0  English       UK           PG-13   \n",
       "3         ...                        2701.0  English      USA           PG-13   \n",
       "4         ...                           NaN      NaN      NaN             NaN   \n",
       "\n",
       "        budget  title_year actor_2_facebook_likes imdb_score  aspect_ratio  \\\n",
       "0  237000000.0      2009.0                  936.0        7.9          1.78   \n",
       "1  300000000.0      2007.0                 5000.0        7.1          2.35   \n",
       "2  245000000.0      2015.0                  393.0        6.8          2.35   \n",
       "3  250000000.0      2012.0                23000.0        8.5          2.35   \n",
       "4          NaN         NaN                   12.0        7.1           NaN   \n",
       "\n",
       "  movie_facebook_likes  \n",
       "0                33000  \n",
       "1                    0  \n",
       "2                85000  \n",
       "3               164000  \n",
       "4                    0  \n",
       "\n",
       "[5 rows x 28 columns]"
      ]
     },
     "execution_count": 1,
     "metadata": {},
     "output_type": "execute_result"
    }
   ],
   "source": [
    "%matplotlib inline\n",
    "\n",
    "import numpy as np \n",
    "import pandas as pd\n",
    "from sklearn import linear_model \n",
    "import matplotlib.pyplot as plt\n",
    "#import file, remove duplicate movies\n",
    "movies = pd.read_csv(\"movie_metadata.csv\", header = 0)\n",
    "original_headers = list(movies.columns.values)#save headers in a list\n",
    "movies = movies.drop_duplicates(['movie_title'])\n",
    "movies.head()"
   ]
  },
  {
   "cell_type": "code",
   "execution_count": 2,
   "metadata": {
    "collapsed": false
   },
   "outputs": [],
   "source": [
    "#select relevant features\n",
    "movies = movies[['num_critic_for_reviews', 'duration', 'director_facebook_likes', 'gross', 'genres', 'cast_total_facebook_likes', 'facenumber_in_poster', 'country', 'content_rating', 'budget', 'title_year', 'imdb_score']]"
   ]
  },
  {
   "cell_type": "code",
   "execution_count": 3,
   "metadata": {
    "collapsed": false
   },
   "outputs": [
    {
     "data": {
      "text/html": [
       "<div>\n",
       "<table border=\"1\" class=\"dataframe\">\n",
       "  <thead>\n",
       "    <tr style=\"text-align: right;\">\n",
       "      <th></th>\n",
       "      <th>num_critic_for_reviews</th>\n",
       "      <th>duration</th>\n",
       "      <th>director_facebook_likes</th>\n",
       "      <th>gross</th>\n",
       "      <th>genres</th>\n",
       "      <th>cast_total_facebook_likes</th>\n",
       "      <th>facenumber_in_poster</th>\n",
       "      <th>country</th>\n",
       "      <th>content_rating</th>\n",
       "      <th>budget</th>\n",
       "      <th>title_year</th>\n",
       "      <th>imdb_score</th>\n",
       "    </tr>\n",
       "  </thead>\n",
       "  <tbody>\n",
       "    <tr>\n",
       "      <th>0</th>\n",
       "      <td>723.0</td>\n",
       "      <td>178.0</td>\n",
       "      <td>0.0</td>\n",
       "      <td>760505847.0</td>\n",
       "      <td>Action|Adventure|Fantasy|Sci-Fi</td>\n",
       "      <td>4834</td>\n",
       "      <td>0.0</td>\n",
       "      <td>USA</td>\n",
       "      <td>PG-13</td>\n",
       "      <td>237000000.0</td>\n",
       "      <td>2009.0</td>\n",
       "      <td>7.9</td>\n",
       "    </tr>\n",
       "    <tr>\n",
       "      <th>1</th>\n",
       "      <td>302.0</td>\n",
       "      <td>169.0</td>\n",
       "      <td>563.0</td>\n",
       "      <td>309404152.0</td>\n",
       "      <td>Action|Adventure|Fantasy</td>\n",
       "      <td>48350</td>\n",
       "      <td>0.0</td>\n",
       "      <td>USA</td>\n",
       "      <td>PG-13</td>\n",
       "      <td>300000000.0</td>\n",
       "      <td>2007.0</td>\n",
       "      <td>7.1</td>\n",
       "    </tr>\n",
       "    <tr>\n",
       "      <th>2</th>\n",
       "      <td>602.0</td>\n",
       "      <td>148.0</td>\n",
       "      <td>0.0</td>\n",
       "      <td>200074175.0</td>\n",
       "      <td>Action|Adventure|Thriller</td>\n",
       "      <td>11700</td>\n",
       "      <td>1.0</td>\n",
       "      <td>UK</td>\n",
       "      <td>PG-13</td>\n",
       "      <td>245000000.0</td>\n",
       "      <td>2015.0</td>\n",
       "      <td>6.8</td>\n",
       "    </tr>\n",
       "    <tr>\n",
       "      <th>3</th>\n",
       "      <td>813.0</td>\n",
       "      <td>164.0</td>\n",
       "      <td>22000.0</td>\n",
       "      <td>448130642.0</td>\n",
       "      <td>Action|Thriller</td>\n",
       "      <td>106759</td>\n",
       "      <td>0.0</td>\n",
       "      <td>USA</td>\n",
       "      <td>PG-13</td>\n",
       "      <td>250000000.0</td>\n",
       "      <td>2012.0</td>\n",
       "      <td>8.5</td>\n",
       "    </tr>\n",
       "    <tr>\n",
       "      <th>4</th>\n",
       "      <td>NaN</td>\n",
       "      <td>NaN</td>\n",
       "      <td>131.0</td>\n",
       "      <td>NaN</td>\n",
       "      <td>Documentary</td>\n",
       "      <td>143</td>\n",
       "      <td>0.0</td>\n",
       "      <td>NaN</td>\n",
       "      <td>NaN</td>\n",
       "      <td>NaN</td>\n",
       "      <td>NaN</td>\n",
       "      <td>7.1</td>\n",
       "    </tr>\n",
       "  </tbody>\n",
       "</table>\n",
       "</div>"
      ],
      "text/plain": [
       "   num_critic_for_reviews  duration  director_facebook_likes        gross  \\\n",
       "0                   723.0     178.0                      0.0  760505847.0   \n",
       "1                   302.0     169.0                    563.0  309404152.0   \n",
       "2                   602.0     148.0                      0.0  200074175.0   \n",
       "3                   813.0     164.0                  22000.0  448130642.0   \n",
       "4                     NaN       NaN                    131.0          NaN   \n",
       "\n",
       "                            genres  cast_total_facebook_likes  \\\n",
       "0  Action|Adventure|Fantasy|Sci-Fi                       4834   \n",
       "1         Action|Adventure|Fantasy                      48350   \n",
       "2        Action|Adventure|Thriller                      11700   \n",
       "3                  Action|Thriller                     106759   \n",
       "4                      Documentary                        143   \n",
       "\n",
       "   facenumber_in_poster country content_rating       budget  title_year  \\\n",
       "0                   0.0     USA          PG-13  237000000.0      2009.0   \n",
       "1                   0.0     USA          PG-13  300000000.0      2007.0   \n",
       "2                   1.0      UK          PG-13  245000000.0      2015.0   \n",
       "3                   0.0     USA          PG-13  250000000.0      2012.0   \n",
       "4                   0.0     NaN            NaN          NaN         NaN   \n",
       "\n",
       "   imdb_score  \n",
       "0         7.9  \n",
       "1         7.1  \n",
       "2         6.8  \n",
       "3         8.5  \n",
       "4         7.1  "
      ]
     },
     "execution_count": 3,
     "metadata": {},
     "output_type": "execute_result"
    }
   ],
   "source": [
    "movies.head()"
   ]
  },
  {
   "cell_type": "code",
   "execution_count": 4,
   "metadata": {
    "collapsed": false
   },
   "outputs": [],
   "source": [
    "#select movies produced in the past 50 years, remove movies that do not have box office gross, \n",
    "# (e.g. documentary movies) and that do not have director_facebook_likes \n",
    "#(e.g. director does not have facebook)\n",
    "movies = movies[movies['gross'] > 0]\n",
    "movies = movies[movies['director_facebook_likes'] > 0]\n",
    "movies = movies[movies['title_year'] >= 1966]\n",
    "#remove variable 'title_year' \n",
    "#since it is just used to select records but not a predictor variable\n",
    "movies = movies[['num_critic_for_reviews', 'duration', 'director_facebook_likes', 'gross', 'genres', 'cast_total_facebook_likes', 'facenumber_in_poster', 'country', 'content_rating', 'budget', 'imdb_score']]"
   ]
  },
  {
   "cell_type": "code",
   "execution_count": 5,
   "metadata": {
    "collapsed": false
   },
   "outputs": [
    {
     "data": {
      "text/plain": [
       "(3321, 11)"
      ]
     },
     "execution_count": 5,
     "metadata": {},
     "output_type": "execute_result"
    }
   ],
   "source": [
    "#print data shape\n",
    "movies.shape"
   ]
  },
  {
   "cell_type": "code",
   "execution_count": 6,
   "metadata": {
    "collapsed": false
   },
   "outputs": [
    {
     "data": {
      "text/plain": [
       "0"
      ]
     },
     "execution_count": 6,
     "metadata": {},
     "output_type": "execute_result"
    }
   ],
   "source": [
    "#check number of missing values in 'genres'\n",
    "movies['genres'].isnull().sum()"
   ]
  },
  {
   "cell_type": "code",
   "execution_count": 7,
   "metadata": {
    "collapsed": false
   },
   "outputs": [
    {
     "data": {
      "text/plain": [
       "0"
      ]
     },
     "execution_count": 7,
     "metadata": {},
     "output_type": "execute_result"
    }
   ],
   "source": [
    "#check number of missing values in 'country'\n",
    "movies['country'].isnull().sum()"
   ]
  },
  {
   "cell_type": "code",
   "execution_count": 8,
   "metadata": {
    "collapsed": false
   },
   "outputs": [
    {
     "data": {
      "text/plain": [
       "1"
      ]
     },
     "execution_count": 8,
     "metadata": {},
     "output_type": "execute_result"
    }
   ],
   "source": [
    "#check number of missing values in 'num_critic_for_reviews'\n",
    "movies['num_critic_for_reviews'].isnull().sum()"
   ]
  },
  {
   "cell_type": "code",
   "execution_count": 9,
   "metadata": {
    "collapsed": false
   },
   "outputs": [
    {
     "data": {
      "text/plain": [
       "1"
      ]
     },
     "execution_count": 9,
     "metadata": {},
     "output_type": "execute_result"
    }
   ],
   "source": [
    "#check number of missing values in 'duration'\n",
    "movies['duration'].isnull().sum()"
   ]
  },
  {
   "cell_type": "code",
   "execution_count": 10,
   "metadata": {
    "collapsed": false
   },
   "outputs": [
    {
     "data": {
      "text/plain": [
       "0"
      ]
     },
     "execution_count": 10,
     "metadata": {},
     "output_type": "execute_result"
    }
   ],
   "source": [
    "#check number of missing values in 'cast_total_facebook_likes'\n",
    "movies['cast_total_facebook_likes'].isnull().sum()"
   ]
  },
  {
   "cell_type": "code",
   "execution_count": 11,
   "metadata": {
    "collapsed": false
   },
   "outputs": [
    {
     "data": {
      "text/plain": [
       "5"
      ]
     },
     "execution_count": 11,
     "metadata": {},
     "output_type": "execute_result"
    }
   ],
   "source": [
    "#check number of missing values in 'facenumber_in_poster'\n",
    "movies['facenumber_in_poster'].isnull().sum()"
   ]
  },
  {
   "cell_type": "code",
   "execution_count": 12,
   "metadata": {
    "collapsed": false
   },
   "outputs": [
    {
     "data": {
      "text/plain": [
       "223"
      ]
     },
     "execution_count": 12,
     "metadata": {},
     "output_type": "execute_result"
    }
   ],
   "source": [
    "#check number of missing values in 'budget'\n",
    "movies['budget'].isnull().sum()"
   ]
  },
  {
   "cell_type": "code",
   "execution_count": 13,
   "metadata": {
    "collapsed": false
   },
   "outputs": [
    {
     "data": {
      "text/plain": [
       "0"
      ]
     },
     "execution_count": 13,
     "metadata": {},
     "output_type": "execute_result"
    }
   ],
   "source": [
    "#check number of missing values in 'imdb_score'\n",
    "movies['imdb_score'].isnull().sum()"
   ]
  },
  {
   "cell_type": "code",
   "execution_count": 14,
   "metadata": {
    "collapsed": false
   },
   "outputs": [],
   "source": [
    "#impute missing values with mean\n",
    "movies['num_critic_for_reviews'] = movies['num_critic_for_reviews'].fillna(movies['num_critic_for_reviews'].mean())"
   ]
  },
  {
   "cell_type": "code",
   "execution_count": 15,
   "metadata": {
    "collapsed": false
   },
   "outputs": [],
   "source": [
    "#impute missing values with mean\n",
    "movies['duration'] = movies['duration'].fillna(movies['duration'].mean())"
   ]
  },
  {
   "cell_type": "code",
   "execution_count": 16,
   "metadata": {
    "collapsed": false
   },
   "outputs": [],
   "source": [
    "#impute missing values with mean\n",
    "movies['facenumber_in_poster'] = movies['facenumber_in_poster'].fillna(movies['facenumber_in_poster'].mean())"
   ]
  },
  {
   "cell_type": "code",
   "execution_count": 17,
   "metadata": {
    "collapsed": false
   },
   "outputs": [],
   "source": [
    "#impute missing values with mean\n",
    "movies['budget'] = movies['budget'].fillna(movies['budget'].mean())"
   ]
  },
  {
   "cell_type": "code",
   "execution_count": 18,
   "metadata": {
    "collapsed": false
   },
   "outputs": [
    {
     "data": {
      "text/html": [
       "<div>\n",
       "<table border=\"1\" class=\"dataframe\">\n",
       "  <thead>\n",
       "    <tr style=\"text-align: right;\">\n",
       "      <th></th>\n",
       "      <th>num_critic_for_reviews</th>\n",
       "      <th>duration</th>\n",
       "      <th>director_facebook_likes</th>\n",
       "      <th>gross</th>\n",
       "      <th>genres</th>\n",
       "      <th>cast_total_facebook_likes</th>\n",
       "      <th>facenumber_in_poster</th>\n",
       "      <th>country</th>\n",
       "      <th>content_rating</th>\n",
       "      <th>budget</th>\n",
       "      <th>...</th>\n",
       "      <th>Musical</th>\n",
       "      <th>Mystery</th>\n",
       "      <th>News</th>\n",
       "      <th>Romance</th>\n",
       "      <th>Sci-Fi</th>\n",
       "      <th>Short</th>\n",
       "      <th>Sport</th>\n",
       "      <th>Thriller</th>\n",
       "      <th>War</th>\n",
       "      <th>Western</th>\n",
       "    </tr>\n",
       "  </thead>\n",
       "  <tbody>\n",
       "    <tr>\n",
       "      <th>1</th>\n",
       "      <td>302.0</td>\n",
       "      <td>169.0</td>\n",
       "      <td>563.0</td>\n",
       "      <td>309404152.0</td>\n",
       "      <td>Action|Adventure|Fantasy</td>\n",
       "      <td>48350</td>\n",
       "      <td>0.0</td>\n",
       "      <td>USA</td>\n",
       "      <td>PG-13</td>\n",
       "      <td>300000000.0</td>\n",
       "      <td>...</td>\n",
       "      <td>0</td>\n",
       "      <td>0</td>\n",
       "      <td>0</td>\n",
       "      <td>0</td>\n",
       "      <td>0</td>\n",
       "      <td>0</td>\n",
       "      <td>0</td>\n",
       "      <td>0</td>\n",
       "      <td>0</td>\n",
       "      <td>0</td>\n",
       "    </tr>\n",
       "    <tr>\n",
       "      <th>3</th>\n",
       "      <td>813.0</td>\n",
       "      <td>164.0</td>\n",
       "      <td>22000.0</td>\n",
       "      <td>448130642.0</td>\n",
       "      <td>Action|Thriller</td>\n",
       "      <td>106759</td>\n",
       "      <td>0.0</td>\n",
       "      <td>USA</td>\n",
       "      <td>PG-13</td>\n",
       "      <td>250000000.0</td>\n",
       "      <td>...</td>\n",
       "      <td>0</td>\n",
       "      <td>0</td>\n",
       "      <td>0</td>\n",
       "      <td>0</td>\n",
       "      <td>0</td>\n",
       "      <td>0</td>\n",
       "      <td>0</td>\n",
       "      <td>1</td>\n",
       "      <td>0</td>\n",
       "      <td>0</td>\n",
       "    </tr>\n",
       "    <tr>\n",
       "      <th>5</th>\n",
       "      <td>462.0</td>\n",
       "      <td>132.0</td>\n",
       "      <td>475.0</td>\n",
       "      <td>73058679.0</td>\n",
       "      <td>Action|Adventure|Sci-Fi</td>\n",
       "      <td>1873</td>\n",
       "      <td>1.0</td>\n",
       "      <td>USA</td>\n",
       "      <td>PG-13</td>\n",
       "      <td>263700000.0</td>\n",
       "      <td>...</td>\n",
       "      <td>0</td>\n",
       "      <td>0</td>\n",
       "      <td>0</td>\n",
       "      <td>0</td>\n",
       "      <td>1</td>\n",
       "      <td>0</td>\n",
       "      <td>0</td>\n",
       "      <td>0</td>\n",
       "      <td>0</td>\n",
       "      <td>0</td>\n",
       "    </tr>\n",
       "    <tr>\n",
       "      <th>7</th>\n",
       "      <td>324.0</td>\n",
       "      <td>100.0</td>\n",
       "      <td>15.0</td>\n",
       "      <td>200807262.0</td>\n",
       "      <td>Adventure|Animation|Comedy|Family|Fantasy|Musi...</td>\n",
       "      <td>2036</td>\n",
       "      <td>1.0</td>\n",
       "      <td>USA</td>\n",
       "      <td>PG</td>\n",
       "      <td>260000000.0</td>\n",
       "      <td>...</td>\n",
       "      <td>1</td>\n",
       "      <td>0</td>\n",
       "      <td>0</td>\n",
       "      <td>1</td>\n",
       "      <td>0</td>\n",
       "      <td>0</td>\n",
       "      <td>0</td>\n",
       "      <td>0</td>\n",
       "      <td>0</td>\n",
       "      <td>0</td>\n",
       "    </tr>\n",
       "    <tr>\n",
       "      <th>9</th>\n",
       "      <td>375.0</td>\n",
       "      <td>153.0</td>\n",
       "      <td>282.0</td>\n",
       "      <td>301956980.0</td>\n",
       "      <td>Adventure|Family|Fantasy|Mystery</td>\n",
       "      <td>58753</td>\n",
       "      <td>3.0</td>\n",
       "      <td>UK</td>\n",
       "      <td>PG</td>\n",
       "      <td>250000000.0</td>\n",
       "      <td>...</td>\n",
       "      <td>0</td>\n",
       "      <td>1</td>\n",
       "      <td>0</td>\n",
       "      <td>0</td>\n",
       "      <td>0</td>\n",
       "      <td>0</td>\n",
       "      <td>0</td>\n",
       "      <td>0</td>\n",
       "      <td>0</td>\n",
       "      <td>0</td>\n",
       "    </tr>\n",
       "  </tbody>\n",
       "</table>\n",
       "<p>5 rows × 34 columns</p>\n",
       "</div>"
      ],
      "text/plain": [
       "   num_critic_for_reviews  duration  director_facebook_likes        gross  \\\n",
       "1                   302.0     169.0                    563.0  309404152.0   \n",
       "3                   813.0     164.0                  22000.0  448130642.0   \n",
       "5                   462.0     132.0                    475.0   73058679.0   \n",
       "7                   324.0     100.0                     15.0  200807262.0   \n",
       "9                   375.0     153.0                    282.0  301956980.0   \n",
       "\n",
       "                                              genres  \\\n",
       "1                           Action|Adventure|Fantasy   \n",
       "3                                    Action|Thriller   \n",
       "5                            Action|Adventure|Sci-Fi   \n",
       "7  Adventure|Animation|Comedy|Family|Fantasy|Musi...   \n",
       "9                   Adventure|Family|Fantasy|Mystery   \n",
       "\n",
       "   cast_total_facebook_likes  facenumber_in_poster country content_rating  \\\n",
       "1                      48350                   0.0     USA          PG-13   \n",
       "3                     106759                   0.0     USA          PG-13   \n",
       "5                       1873                   1.0     USA          PG-13   \n",
       "7                       2036                   1.0     USA             PG   \n",
       "9                      58753                   3.0      UK             PG   \n",
       "\n",
       "        budget   ...     Musical  Mystery  News  Romance  Sci-Fi  Short  \\\n",
       "1  300000000.0   ...           0        0     0        0       0      0   \n",
       "3  250000000.0   ...           0        0     0        0       0      0   \n",
       "5  263700000.0   ...           0        0     0        0       1      0   \n",
       "7  260000000.0   ...           1        0     0        1       0      0   \n",
       "9  250000000.0   ...           0        1     0        0       0      0   \n",
       "\n",
       "   Sport  Thriller  War  Western  \n",
       "1      0         0    0        0  \n",
       "3      0         1    0        0  \n",
       "5      0         0    0        0  \n",
       "7      0         0    0        0  \n",
       "9      0         0    0        0  \n",
       "\n",
       "[5 rows x 34 columns]"
      ]
     },
     "execution_count": 18,
     "metadata": {},
     "output_type": "execute_result"
    }
   ],
   "source": [
    "#Categorize Genres feature\n",
    "\n",
    "#First find out all categories\n",
    "genresList = movies['genres'].str.split('|')\n",
    "genresArray = np.asarray(genresList)\n",
    "oneArray = sum(genresArray, [])\n",
    "genres = np.unique(oneArray)\n",
    "#genres = ['Action','Adventure','Animation','Biography','Comedy','Crime','Documentary','Drama','Family','Fantasy','History','Horror','Music','Musical','Mystery','News','Romance','Sci-Fi','Short','Sport','Thriller','War','Western']\n",
    "\n",
    "#Second add new binary features\n",
    "i=0 \n",
    "while i<len(genres): \n",
    "    movies[genres[i]]=movies['genres'].str.contains(genres[i]).astype(int)\n",
    "    i=i+1\n",
    "\n",
    "#Visualization\n",
    "movies.head()\n",
    "\n",
    "\n"
   ]
  },
  {
   "cell_type": "code",
   "execution_count": 19,
   "metadata": {
    "collapsed": false
   },
   "outputs": [
    {
     "data": {
      "text/html": [
       "<div>\n",
       "<table border=\"1\" class=\"dataframe\">\n",
       "  <thead>\n",
       "    <tr style=\"text-align: right;\">\n",
       "      <th></th>\n",
       "      <th>num_critic_for_reviews</th>\n",
       "      <th>duration</th>\n",
       "      <th>director_facebook_likes</th>\n",
       "      <th>gross</th>\n",
       "      <th>genres</th>\n",
       "      <th>cast_total_facebook_likes</th>\n",
       "      <th>facenumber_in_poster</th>\n",
       "      <th>country</th>\n",
       "      <th>content_rating</th>\n",
       "      <th>budget</th>\n",
       "      <th>...</th>\n",
       "      <th>Brazil</th>\n",
       "      <th>Finland</th>\n",
       "      <th>Norway</th>\n",
       "      <th>Sweden</th>\n",
       "      <th>Argentina</th>\n",
       "      <th>Colombia</th>\n",
       "      <th>Poland</th>\n",
       "      <th>Israel</th>\n",
       "      <th>Indonesia</th>\n",
       "      <th>Afghanistan</th>\n",
       "    </tr>\n",
       "  </thead>\n",
       "  <tbody>\n",
       "    <tr>\n",
       "      <th>1</th>\n",
       "      <td>302.0</td>\n",
       "      <td>169.0</td>\n",
       "      <td>563.0</td>\n",
       "      <td>309404152.0</td>\n",
       "      <td>Action|Adventure|Fantasy</td>\n",
       "      <td>48350</td>\n",
       "      <td>0.0</td>\n",
       "      <td>USA</td>\n",
       "      <td>PG-13</td>\n",
       "      <td>300000000.0</td>\n",
       "      <td>...</td>\n",
       "      <td>0</td>\n",
       "      <td>0</td>\n",
       "      <td>0</td>\n",
       "      <td>0</td>\n",
       "      <td>0</td>\n",
       "      <td>0</td>\n",
       "      <td>0</td>\n",
       "      <td>0</td>\n",
       "      <td>0</td>\n",
       "      <td>0</td>\n",
       "    </tr>\n",
       "    <tr>\n",
       "      <th>3</th>\n",
       "      <td>813.0</td>\n",
       "      <td>164.0</td>\n",
       "      <td>22000.0</td>\n",
       "      <td>448130642.0</td>\n",
       "      <td>Action|Thriller</td>\n",
       "      <td>106759</td>\n",
       "      <td>0.0</td>\n",
       "      <td>USA</td>\n",
       "      <td>PG-13</td>\n",
       "      <td>250000000.0</td>\n",
       "      <td>...</td>\n",
       "      <td>0</td>\n",
       "      <td>0</td>\n",
       "      <td>0</td>\n",
       "      <td>0</td>\n",
       "      <td>0</td>\n",
       "      <td>0</td>\n",
       "      <td>0</td>\n",
       "      <td>0</td>\n",
       "      <td>0</td>\n",
       "      <td>0</td>\n",
       "    </tr>\n",
       "    <tr>\n",
       "      <th>5</th>\n",
       "      <td>462.0</td>\n",
       "      <td>132.0</td>\n",
       "      <td>475.0</td>\n",
       "      <td>73058679.0</td>\n",
       "      <td>Action|Adventure|Sci-Fi</td>\n",
       "      <td>1873</td>\n",
       "      <td>1.0</td>\n",
       "      <td>USA</td>\n",
       "      <td>PG-13</td>\n",
       "      <td>263700000.0</td>\n",
       "      <td>...</td>\n",
       "      <td>0</td>\n",
       "      <td>0</td>\n",
       "      <td>0</td>\n",
       "      <td>0</td>\n",
       "      <td>0</td>\n",
       "      <td>0</td>\n",
       "      <td>0</td>\n",
       "      <td>0</td>\n",
       "      <td>0</td>\n",
       "      <td>0</td>\n",
       "    </tr>\n",
       "    <tr>\n",
       "      <th>7</th>\n",
       "      <td>324.0</td>\n",
       "      <td>100.0</td>\n",
       "      <td>15.0</td>\n",
       "      <td>200807262.0</td>\n",
       "      <td>Adventure|Animation|Comedy|Family|Fantasy|Musi...</td>\n",
       "      <td>2036</td>\n",
       "      <td>1.0</td>\n",
       "      <td>USA</td>\n",
       "      <td>PG</td>\n",
       "      <td>260000000.0</td>\n",
       "      <td>...</td>\n",
       "      <td>0</td>\n",
       "      <td>0</td>\n",
       "      <td>0</td>\n",
       "      <td>0</td>\n",
       "      <td>0</td>\n",
       "      <td>0</td>\n",
       "      <td>0</td>\n",
       "      <td>0</td>\n",
       "      <td>0</td>\n",
       "      <td>0</td>\n",
       "    </tr>\n",
       "    <tr>\n",
       "      <th>9</th>\n",
       "      <td>375.0</td>\n",
       "      <td>153.0</td>\n",
       "      <td>282.0</td>\n",
       "      <td>301956980.0</td>\n",
       "      <td>Adventure|Family|Fantasy|Mystery</td>\n",
       "      <td>58753</td>\n",
       "      <td>3.0</td>\n",
       "      <td>UK</td>\n",
       "      <td>PG</td>\n",
       "      <td>250000000.0</td>\n",
       "      <td>...</td>\n",
       "      <td>0</td>\n",
       "      <td>0</td>\n",
       "      <td>0</td>\n",
       "      <td>0</td>\n",
       "      <td>0</td>\n",
       "      <td>0</td>\n",
       "      <td>0</td>\n",
       "      <td>0</td>\n",
       "      <td>0</td>\n",
       "      <td>0</td>\n",
       "    </tr>\n",
       "  </tbody>\n",
       "</table>\n",
       "<p>5 rows × 80 columns</p>\n",
       "</div>"
      ],
      "text/plain": [
       "   num_critic_for_reviews  duration  director_facebook_likes        gross  \\\n",
       "1                   302.0     169.0                    563.0  309404152.0   \n",
       "3                   813.0     164.0                  22000.0  448130642.0   \n",
       "5                   462.0     132.0                    475.0   73058679.0   \n",
       "7                   324.0     100.0                     15.0  200807262.0   \n",
       "9                   375.0     153.0                    282.0  301956980.0   \n",
       "\n",
       "                                              genres  \\\n",
       "1                           Action|Adventure|Fantasy   \n",
       "3                                    Action|Thriller   \n",
       "5                            Action|Adventure|Sci-Fi   \n",
       "7  Adventure|Animation|Comedy|Family|Fantasy|Musi...   \n",
       "9                   Adventure|Family|Fantasy|Mystery   \n",
       "\n",
       "   cast_total_facebook_likes  facenumber_in_poster country content_rating  \\\n",
       "1                      48350                   0.0     USA          PG-13   \n",
       "3                     106759                   0.0     USA          PG-13   \n",
       "5                       1873                   1.0     USA          PG-13   \n",
       "7                       2036                   1.0     USA             PG   \n",
       "9                      58753                   3.0      UK             PG   \n",
       "\n",
       "        budget     ...       Brazil  Finland  Norway  Sweden  Argentina  \\\n",
       "1  300000000.0     ...            0        0       0       0          0   \n",
       "3  250000000.0     ...            0        0       0       0          0   \n",
       "5  263700000.0     ...            0        0       0       0          0   \n",
       "7  260000000.0     ...            0        0       0       0          0   \n",
       "9  250000000.0     ...            0        0       0       0          0   \n",
       "\n",
       "   Colombia  Poland  Israel  Indonesia  Afghanistan  \n",
       "1         0       0       0          0            0  \n",
       "3         0       0       0          0            0  \n",
       "5         0       0       0          0            0  \n",
       "7         0       0       0          0            0  \n",
       "9         0       0       0          0            0  \n",
       "\n",
       "[5 rows x 80 columns]"
      ]
     },
     "execution_count": 19,
     "metadata": {},
     "output_type": "execute_result"
    }
   ],
   "source": [
    "#Categorize Countries feature\n",
    "\n",
    "countries = movies['country'].unique()\n",
    "i=0\n",
    "while i<len(countries):\n",
    "    movies[countries[i]]=movies['country'].str.contains(countries[i]).astype(int)\n",
    "    i=i+1\n",
    "\n",
    "movies.head()\n"
   ]
  },
  {
   "cell_type": "code",
   "execution_count": 20,
   "metadata": {
    "collapsed": false
   },
   "outputs": [
    {
     "data": {
      "text/html": [
       "<div>\n",
       "<table border=\"1\" class=\"dataframe\">\n",
       "  <thead>\n",
       "    <tr style=\"text-align: right;\">\n",
       "      <th></th>\n",
       "      <th>num_critic_for_reviews</th>\n",
       "      <th>duration</th>\n",
       "      <th>director_facebook_likes</th>\n",
       "      <th>gross</th>\n",
       "      <th>genres</th>\n",
       "      <th>cast_total_facebook_likes</th>\n",
       "      <th>facenumber_in_poster</th>\n",
       "      <th>country</th>\n",
       "      <th>content_rating</th>\n",
       "      <th>budget</th>\n",
       "      <th>...</th>\n",
       "      <th>PG-13</th>\n",
       "      <th>PG</th>\n",
       "      <th>G</th>\n",
       "      <th>R</th>\n",
       "      <th>Not Rated</th>\n",
       "      <th>NC-17</th>\n",
       "      <th>Approved</th>\n",
       "      <th>M</th>\n",
       "      <th>GP</th>\n",
       "      <th>X</th>\n",
       "    </tr>\n",
       "  </thead>\n",
       "  <tbody>\n",
       "    <tr>\n",
       "      <th>1</th>\n",
       "      <td>302.0</td>\n",
       "      <td>169.0</td>\n",
       "      <td>563.0</td>\n",
       "      <td>309404152.0</td>\n",
       "      <td>Action|Adventure|Fantasy</td>\n",
       "      <td>48350</td>\n",
       "      <td>0.0</td>\n",
       "      <td>USA</td>\n",
       "      <td>PG-13</td>\n",
       "      <td>300000000.0</td>\n",
       "      <td>...</td>\n",
       "      <td>1</td>\n",
       "      <td>1</td>\n",
       "      <td>0</td>\n",
       "      <td>0</td>\n",
       "      <td>0</td>\n",
       "      <td>0</td>\n",
       "      <td>0</td>\n",
       "      <td>0</td>\n",
       "      <td>0</td>\n",
       "      <td>0</td>\n",
       "    </tr>\n",
       "    <tr>\n",
       "      <th>3</th>\n",
       "      <td>813.0</td>\n",
       "      <td>164.0</td>\n",
       "      <td>22000.0</td>\n",
       "      <td>448130642.0</td>\n",
       "      <td>Action|Thriller</td>\n",
       "      <td>106759</td>\n",
       "      <td>0.0</td>\n",
       "      <td>USA</td>\n",
       "      <td>PG-13</td>\n",
       "      <td>250000000.0</td>\n",
       "      <td>...</td>\n",
       "      <td>1</td>\n",
       "      <td>1</td>\n",
       "      <td>0</td>\n",
       "      <td>0</td>\n",
       "      <td>0</td>\n",
       "      <td>0</td>\n",
       "      <td>0</td>\n",
       "      <td>0</td>\n",
       "      <td>0</td>\n",
       "      <td>0</td>\n",
       "    </tr>\n",
       "    <tr>\n",
       "      <th>5</th>\n",
       "      <td>462.0</td>\n",
       "      <td>132.0</td>\n",
       "      <td>475.0</td>\n",
       "      <td>73058679.0</td>\n",
       "      <td>Action|Adventure|Sci-Fi</td>\n",
       "      <td>1873</td>\n",
       "      <td>1.0</td>\n",
       "      <td>USA</td>\n",
       "      <td>PG-13</td>\n",
       "      <td>263700000.0</td>\n",
       "      <td>...</td>\n",
       "      <td>1</td>\n",
       "      <td>1</td>\n",
       "      <td>0</td>\n",
       "      <td>0</td>\n",
       "      <td>0</td>\n",
       "      <td>0</td>\n",
       "      <td>0</td>\n",
       "      <td>0</td>\n",
       "      <td>0</td>\n",
       "      <td>0</td>\n",
       "    </tr>\n",
       "    <tr>\n",
       "      <th>7</th>\n",
       "      <td>324.0</td>\n",
       "      <td>100.0</td>\n",
       "      <td>15.0</td>\n",
       "      <td>200807262.0</td>\n",
       "      <td>Adventure|Animation|Comedy|Family|Fantasy|Musi...</td>\n",
       "      <td>2036</td>\n",
       "      <td>1.0</td>\n",
       "      <td>USA</td>\n",
       "      <td>PG</td>\n",
       "      <td>260000000.0</td>\n",
       "      <td>...</td>\n",
       "      <td>0</td>\n",
       "      <td>1</td>\n",
       "      <td>0</td>\n",
       "      <td>0</td>\n",
       "      <td>0</td>\n",
       "      <td>0</td>\n",
       "      <td>0</td>\n",
       "      <td>0</td>\n",
       "      <td>0</td>\n",
       "      <td>0</td>\n",
       "    </tr>\n",
       "    <tr>\n",
       "      <th>9</th>\n",
       "      <td>375.0</td>\n",
       "      <td>153.0</td>\n",
       "      <td>282.0</td>\n",
       "      <td>301956980.0</td>\n",
       "      <td>Adventure|Family|Fantasy|Mystery</td>\n",
       "      <td>58753</td>\n",
       "      <td>3.0</td>\n",
       "      <td>UK</td>\n",
       "      <td>PG</td>\n",
       "      <td>250000000.0</td>\n",
       "      <td>...</td>\n",
       "      <td>0</td>\n",
       "      <td>1</td>\n",
       "      <td>0</td>\n",
       "      <td>0</td>\n",
       "      <td>0</td>\n",
       "      <td>0</td>\n",
       "      <td>0</td>\n",
       "      <td>0</td>\n",
       "      <td>0</td>\n",
       "      <td>0</td>\n",
       "    </tr>\n",
       "  </tbody>\n",
       "</table>\n",
       "<p>5 rows × 90 columns</p>\n",
       "</div>"
      ],
      "text/plain": [
       "   num_critic_for_reviews  duration  director_facebook_likes        gross  \\\n",
       "1                   302.0     169.0                    563.0  309404152.0   \n",
       "3                   813.0     164.0                  22000.0  448130642.0   \n",
       "5                   462.0     132.0                    475.0   73058679.0   \n",
       "7                   324.0     100.0                     15.0  200807262.0   \n",
       "9                   375.0     153.0                    282.0  301956980.0   \n",
       "\n",
       "                                              genres  \\\n",
       "1                           Action|Adventure|Fantasy   \n",
       "3                                    Action|Thriller   \n",
       "5                            Action|Adventure|Sci-Fi   \n",
       "7  Adventure|Animation|Comedy|Family|Fantasy|Musi...   \n",
       "9                   Adventure|Family|Fantasy|Mystery   \n",
       "\n",
       "   cast_total_facebook_likes  facenumber_in_poster country content_rating  \\\n",
       "1                      48350                   0.0     USA          PG-13   \n",
       "3                     106759                   0.0     USA          PG-13   \n",
       "5                       1873                   1.0     USA          PG-13   \n",
       "7                       2036                   1.0     USA             PG   \n",
       "9                      58753                   3.0      UK             PG   \n",
       "\n",
       "        budget ...  PG-13  PG  G  R  Not Rated  NC-17  Approved  M  GP  X  \n",
       "1  300000000.0 ...      1   1  0  0          0      0         0  0   0  0  \n",
       "3  250000000.0 ...      1   1  0  0          0      0         0  0   0  0  \n",
       "5  263700000.0 ...      1   1  0  0          0      0         0  0   0  0  \n",
       "7  260000000.0 ...      0   1  0  0          0      0         0  0   0  0  \n",
       "9  250000000.0 ...      0   1  0  0          0      0         0  0   0  0  \n",
       "\n",
       "[5 rows x 90 columns]"
      ]
     },
     "execution_count": 20,
     "metadata": {},
     "output_type": "execute_result"
    }
   ],
   "source": [
    "#Categorize Content-rating feature\n",
    "\n",
    "#Replace empty cells or 'Unrated' with 'Not Rated' since they mean the same thing\n",
    "movies['content_rating'] = movies['content_rating'].replace(np.nan,'Not Rated', regex=True)\n",
    "movies['content_rating'] = movies['content_rating'].replace('Unrated','Not Rated', regex=True)\n",
    "\n",
    "rating = movies['content_rating'].unique()\n",
    "i=0\n",
    "while i<len(rating):\n",
    "    movies[rating[i]]=movies['content_rating'].str.match(rating[i]).astype(int)\n",
    "    i=i+1\n",
    "\n",
    "movies.head()\n"
   ]
  },
  {
   "cell_type": "code",
   "execution_count": 21,
   "metadata": {
    "collapsed": false
   },
   "outputs": [
    {
     "data": {
      "text/plain": [
       "num_critic_for_reviews                                             105\n",
       "duration                                                            88\n",
       "director_facebook_likes                                              8\n",
       "gross                                                      2.81332e+07\n",
       "genres                       Adventure|Animation|Comedy|Family|Fantasy\n",
       "cast_total_facebook_likes                                        33822\n",
       "facenumber_in_poster                                                 1\n",
       "country                                                            USA\n",
       "content_rating                                                      PG\n",
       "budget                                                           5e+07\n",
       "imdb_score                                                         5.9\n",
       "Action                                                               0\n",
       "Adventure                                                            1\n",
       "Animation                                                            1\n",
       "Biography                                                            0\n",
       "Comedy                                                               1\n",
       "Crime                                                                0\n",
       "Documentary                                                          0\n",
       "Drama                                                                0\n",
       "Family                                                               1\n",
       "Fantasy                                                              1\n",
       "History                                                              0\n",
       "Horror                                                               0\n",
       "Music                                                                0\n",
       "Musical                                                              0\n",
       "Mystery                                                              0\n",
       "News                                                                 0\n",
       "Romance                                                              0\n",
       "Sci-Fi                                                               0\n",
       "Short                                                                0\n",
       "Sport                                                                0\n",
       "Thriller                                                             0\n",
       "War                                                                  0\n",
       "Western                                                              0\n",
       "USA                                                                  1\n",
       "UK                                                                   0\n",
       "Canada                                                               0\n",
       "Australia                                                            0\n",
       "China                                                                0\n",
       "Germany                                                              0\n",
       "New Line                                                             0\n",
       "France                                                               0\n",
       "Japan                                                                0\n",
       "Spain                                                                0\n",
       "Hong Kong                                                            0\n",
       "Czech Republic                                                       0\n",
       "India                                                                0\n",
       "Peru                                                                 0\n",
       "New Zealand                                                          0\n",
       "South Korea                                                          0\n",
       "Aruba                                                                0\n",
       "Denmark                                                              0\n",
       "Ireland                                                              0\n",
       "South Africa                                                         0\n",
       "Romania                                                              0\n",
       "Chile                                                                0\n",
       "Italy                                                                0\n",
       "Netherlands                                                          0\n",
       "Hungary                                                              0\n",
       "Mexico                                                               0\n",
       "Belgium                                                              0\n",
       "Russia                                                               0\n",
       "Greece                                                               0\n",
       "Official site                                                        0\n",
       "Taiwan                                                               0\n",
       "Iran                                                                 0\n",
       "West Germany                                                         0\n",
       "Georgia                                                              0\n",
       "Iceland                                                              0\n",
       "Thailand                                                             0\n",
       "Brazil                                                               0\n",
       "Finland                                                              0\n",
       "Norway                                                               0\n",
       "Sweden                                                               0\n",
       "Argentina                                                            0\n",
       "Colombia                                                             0\n",
       "Poland                                                               0\n",
       "Israel                                                               0\n",
       "Indonesia                                                            0\n",
       "Afghanistan                                                          0\n",
       "PG-13                                                                0\n",
       "PG                                                                   1\n",
       "G                                                                    0\n",
       "R                                                                    0\n",
       "Not Rated                                                            0\n",
       "NC-17                                                                0\n",
       "Approved                                                             0\n",
       "M                                                                    0\n",
       "GP                                                                   0\n",
       "X                                                                    0\n",
       "Name: 1111, dtype: object"
      ]
     },
     "execution_count": 21,
     "metadata": {},
     "output_type": "execute_result"
    }
   ],
   "source": [
    "#Print out a random row and check if its categorization is correct\n",
    "\n",
    "#Force to display all columns\n",
    "pd.set_option('display.max_rows', 200)\n",
    "\n",
    "#Randomly select a row\n",
    "movies.iloc[868]\n"
   ]
  },
  {
   "cell_type": "code",
   "execution_count": 22,
   "metadata": {
    "collapsed": false
   },
   "outputs": [],
   "source": [
    "movies = movies._get_numeric_data() #remove non-numeric columns\n",
    "numeric_headers = list(movies.columns.values) #put the numeric column names in a python list\n",
    "# create a numpy array with the numeric values for input into scikit-learn\n",
    "movies_array = movies.as_matrix()"
   ]
  },
  {
   "cell_type": "code",
   "execution_count": 23,
   "metadata": {
    "collapsed": false
   },
   "outputs": [
    {
     "name": "stdout",
     "output_type": "stream",
     "text": [
      "[[  3.02000000e+02   1.69000000e+02   5.63000000e+02 ...,   0.00000000e+00\n",
      "    0.00000000e+00   0.00000000e+00]\n",
      " [  8.13000000e+02   1.64000000e+02   2.20000000e+04 ...,   0.00000000e+00\n",
      "    0.00000000e+00   0.00000000e+00]\n",
      " [  4.62000000e+02   1.32000000e+02   4.75000000e+02 ...,   0.00000000e+00\n",
      "    0.00000000e+00   0.00000000e+00]\n",
      " ..., \n",
      " [  7.80000000e+01   1.11000000e+02   6.20000000e+01 ...,   0.00000000e+00\n",
      "    0.00000000e+00   0.00000000e+00]\n",
      " [  1.43000000e+02   7.70000000e+01   2.91000000e+02 ...,   0.00000000e+00\n",
      "    0.00000000e+00   0.00000000e+00]\n",
      " [  4.30000000e+01   9.00000000e+01   1.60000000e+01 ...,   0.00000000e+00\n",
      "    0.00000000e+00   0.00000000e+00]]\n"
     ]
    }
   ],
   "source": [
    "print(movies_array)"
   ]
  },
  {
   "cell_type": "code",
   "execution_count": 24,
   "metadata": {
    "collapsed": false
   },
   "outputs": [],
   "source": [
    "#select target variable as y, select input variables as x\n",
    "y = movies_array[:, 3]\n",
    "x = movies_array[:, list(range(0,3))+list(range(4,len(movies_array[0])))]"
   ]
  },
  {
   "cell_type": "code",
   "execution_count": 25,
   "metadata": {
    "collapsed": false
   },
   "outputs": [
    {
     "data": {
      "text/plain": [
       "(3321,)"
      ]
     },
     "execution_count": 25,
     "metadata": {},
     "output_type": "execute_result"
    }
   ],
   "source": [
    "#print data shape\n",
    "y.shape"
   ]
  },
  {
   "cell_type": "code",
   "execution_count": 26,
   "metadata": {
    "collapsed": false
   },
   "outputs": [
    {
     "data": {
      "text/plain": [
       "(3321, 86)"
      ]
     },
     "execution_count": 26,
     "metadata": {},
     "output_type": "execute_result"
    }
   ],
   "source": [
    "#print data shape\n",
    "x.shape"
   ]
  },
  {
   "cell_type": "code",
   "execution_count": 27,
   "metadata": {
    "collapsed": false
   },
   "outputs": [
    {
     "name": "stderr",
     "output_type": "stream",
     "text": [
      "/Library/Frameworks/Python.framework/Versions/3.5/lib/python3.5/site-packages/scipy/linalg/basic.py:884: RuntimeWarning: internal gelsd driver lwork query error, required iwork dimension not returned. This is likely the result of LAPACK bug 0038, fixed in LAPACK 3.2.2 (released July 21, 2010). Falling back to 'gelss' driver.\n",
      "  warnings.warn(mesg, RuntimeWarning)\n"
     ]
    },
    {
     "data": {
      "text/plain": [
       "LinearRegression(copy_X=True, fit_intercept=True, n_jobs=1, normalize=False)"
      ]
     },
     "execution_count": 27,
     "metadata": {},
     "output_type": "execute_result"
    }
   ],
   "source": [
    "#Test if data can be used by scikit learn models\n",
    "reg = linear_model.LinearRegression()\n",
    "reg.fit(x, y)"
   ]
  },
  {
   "cell_type": "code",
   "execution_count": 28,
   "metadata": {
    "collapsed": false
   },
   "outputs": [
    {
     "data": {
      "image/png": "[encoded data removed]",
      "text/plain": [
       "<matplotlib.figure.Figure at 0x10b877cc0>"
      ]
     },
     "metadata": {},
     "output_type": "display_data"
    }
   ],
   "source": [
    "#histogram of target\n",
    "plt.hist(y, bins=np.arange(min(y),max(y),10000000))\n",
    "plt.title('Gross Histogram')\n",
    "plt.xlabel('Gross')\n",
    "plt.ylabel('Number of Movies')\n",
    "plt.show()"
   ]
  },
  {
   "cell_type": "code",
   "execution_count": 29,
   "metadata": {
    "collapsed": false
   },
   "outputs": [
    {
     "data": {
      "text/plain": [
       "45609806.448961154"
      ]
     },
     "execution_count": 29,
     "metadata": {},
     "output_type": "execute_result"
    }
   ],
   "source": [
    "#mean of target\n",
    "np.mean(y)"
   ]
  },
  {
   "cell_type": "code",
   "execution_count": 30,
   "metadata": {
    "collapsed": false
   },
   "outputs": [
    {
     "data": {
      "text/plain": [
       "3801499075431798.0"
      ]
     },
     "execution_count": 30,
     "metadata": {},
     "output_type": "execute_result"
    }
   ],
   "source": [
    "#variance of target\n",
    "np.var(y)"
   ]
  },
  {
   "cell_type": "code",
   "execution_count": 31,
   "metadata": {
    "collapsed": false
   },
   "outputs": [
    {
     "data": {
      "image/png": "[encoded data removed]",
      "text/plain": [
       "<matplotlib.figure.Figure at 0x10b853940>"
      ]
     },
     "metadata": {},
     "output_type": "display_data"
    }
   ],
   "source": [
    "#box plot of target\n",
    "plt.boxplot(y)\n",
    "plt.title('Gross Box Plot')\n",
    "plt.show()"
   ]
  },
  {
   "cell_type": "code",
   "execution_count": 49,
   "metadata": {
    "collapsed": false
   },
   "outputs": [
    {
     "data": {
      "image/png": "[encoded data removed]",
      "text/plain": [
       "<matplotlib.figure.Figure at 0x112c495f8>"
      ]
     },
     "metadata": {},
     "output_type": "display_data"
    }
   ],
   "source": [
    "budget = movies_array[:, 6]\n",
    "plt.hist(budget)\n",
    "plt.title('Budget Histogram')\n",
    "plt.xlabel('Budget')\n",
    "plt.ylabel('Number of Movies')\n",
    "plt.show()"
   ]
  },
  {
   "cell_type": "code",
   "execution_count": 50,
   "metadata": {
    "collapsed": false
   },
   "outputs": [
    {
     "name": "stdout",
     "output_type": "stream",
     "text": [
      "['num_critic_for_reviews', 'duration', 'director_facebook_likes', 'gross', 'cast_total_facebook_likes', 'facenumber_in_poster', 'budget', 'imdb_score', 'Action', 'Adventure', 'Animation', 'Biography', 'Comedy', 'Crime', 'Documentary', 'Drama', 'Family', 'Fantasy', 'History', 'Horror', 'Music', 'Musical', 'Mystery', 'News', 'Romance', 'Sci-Fi', 'Short', 'Sport', 'Thriller', 'War', 'Western', 'USA', 'UK', 'Canada', 'Australia', 'China', 'Germany', 'New Line', 'France', 'Japan', 'Spain', 'Hong Kong', 'Czech Republic', 'India', 'Peru', 'New Zealand', 'South Korea', 'Aruba', 'Denmark', 'Ireland', 'South Africa', 'Romania', 'Chile', 'Italy', 'Netherlands', 'Hungary', 'Mexico', 'Belgium', 'Russia', 'Greece', 'Official site', 'Taiwan', 'Iran', 'West Germany', 'Georgia', 'Iceland', 'Thailand', 'Brazil', 'Finland', 'Norway', 'Sweden', 'Argentina', 'Colombia', 'Poland', 'Israel', 'Indonesia', 'Afghanistan', 'PG-13', 'PG', 'G', 'R', 'Not Rated', 'NC-17', 'Approved', 'M', 'GP', 'X']\n"
     ]
    }
   ],
   "source": [
    "print(numeric_headers)"
   ]
  },
  {
   "cell_type": "code",
   "execution_count": 52,
   "metadata": {
    "collapsed": false
   },
   "outputs": [
    {
     "data": {
      "image/png": "[encoded data removed]",
      "text/plain": [
       "<matplotlib.figure.Figure at 0x10b8bc2b0>"
      ]
     },
     "metadata": {},
     "output_type": "display_data"
    }
   ],
   "source": [
    "imdb_score = movies_array[:, 7]\n",
    "plt.hist(imdb_score)\n",
    "plt.title('IMDB Score Histogram')\n",
    "plt.xlabel('Score')\n",
    "plt.ylabel('Number of Movies')\n",
    "plt.show()"
   ]
  },
  {
   "cell_type": "code",
   "execution_count": null,
   "metadata": {
    "collapsed": true
   },
   "outputs": [],
   "source": []
  }
 ],
 "metadata": {
  "anaconda-cloud": {},
  "kernelspec": {
   "display_name": "Python 3",
   "language": "python",
   "name": "python3"
  },
  "language_info": {
   "codemirror_mode": {
    "name": "ipython",
    "version": 3
   },
   "file_extension": ".py",
   "mimetype": "text/x-python",
   "name": "python",
   "nbconvert_exporter": "python",
   "pygments_lexer": "ipython3",
   "version": "3.5.1"
  }
 },
 "nbformat": 4,
 "nbformat_minor": 0
}
